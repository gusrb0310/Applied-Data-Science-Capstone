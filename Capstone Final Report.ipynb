{
 "cells": [
  {
   "cell_type": "markdown",
   "metadata": {},
   "source": [
    "# Capstone Project - The Battle of Neighborhoods (Week 2)\n",
    "\n",
    "## Best Cafe for Hyunjin Ryu"
   ]
  },
  {
   "cell_type": "markdown",
   "metadata": {},
   "source": [
    "### I. Introduction"
   ]
  },
  {
   "cell_type": "markdown",
   "metadata": {},
   "source": [
    "Hyunjin Ryu is an ace pitcher for the Toronto Blue Jays. He is a coffee lover, so he wants to find the best cafe near the Blue Jays Stadium where he plays. He would prefer the cafe within 2km that he can walk to their."
   ]
  },
  {
   "cell_type": "markdown",
   "metadata": {},
   "source": [
    "### II. Business Problem"
   ]
  },
  {
   "cell_type": "markdown",
   "metadata": {},
   "source": [
    "Many cafe are located in Toronto, but finding best top 5 coffee shop for him would help him saving the time so he can focus more on training. It would help him get better score throughout the season, so he can get higher salary in next season."
   ]
  },
  {
   "cell_type": "markdown",
   "metadata": {},
   "source": [
    "### III. Data"
   ]
  },
  {
   "cell_type": "markdown",
   "metadata": {},
   "source": [
    "First, I will use the Foursquare API to get cafe within 2km from the Blue Jays stadium.\n",
    "\n",
    "Second, get rating score for every cafe by using Foursquare API"
   ]
  },
  {
   "cell_type": "markdown",
   "metadata": {},
   "source": [
    "### IV. Methodology"
   ]
  },
  {
   "cell_type": "markdown",
   "metadata": {},
   "source": [
    "1. Get the geographical coordinate of Blue Jays stadium, or Rogers Centre by using geocoders.\n",
    "2. Obtain the list of cafe within 2000m radius of Rogers Centre.\n",
    "3. Get the ratings of those cafe \n",
    "4. Sort cafe by rating and recommend top highly rated cafe among the dataframe.\n",
    "5. Point the cafe in the map by using folium library"
   ]
  },
  {
   "cell_type": "markdown",
   "metadata": {},
   "source": [
    "### V. Results"
   ]
  },
  {
   "cell_type": "markdown",
   "metadata": {},
   "source": [
    "1. The geograpical coordinate of Rogers centre are 43.6416641, -79.38919882366382.\n",
    "2. 5 best cafes are listed below with ratings.\n",
    "![result 1](https://github.com/gusrb0310/Applied-Data-Science-Capstone/blob/main/result%201.PNG?raw=true)\n",
    "3. Map nearby Rogers centre, pinned with cafe recommendation\n",
    "![result 2](https://github.com/gusrb0310/Applied-Data-Science-Capstone/blob/main/result%202.PNG?raw=true)\n"
   ]
  },
  {
   "cell_type": "markdown",
   "metadata": {},
   "source": [
    "### VI. Discussions"
   ]
  },
  {
   "cell_type": "markdown",
   "metadata": {},
   "source": [
    "We could get 5 highly recommended cafe near Rogers centre for 'coffe lover' Hyunjin Ryu. We could get high rating of 9.1 for Fahrenheit coffee, but it seems quite far from the stadium. Further research should adjust the radius for recommendation that affordable by walking."
   ]
  },
  {
   "cell_type": "markdown",
   "metadata": {},
   "source": [
    "### VII. Conclusion"
   ]
  },
  {
   "cell_type": "markdown",
   "metadata": {},
   "source": [
    "We could make cafe recommendation table for Hyunjin Ryu nearby the Rogers Centre within 2 km."
   ]
  },
  {
   "cell_type": "code",
   "execution_count": null,
   "metadata": {},
   "outputs": [],
   "source": []
  }
 ],
 "metadata": {
  "kernelspec": {
   "display_name": "Python 3",
   "language": "python",
   "name": "python3"
  },
  "language_info": {
   "codemirror_mode": {
    "name": "ipython",
    "version": 3
   },
   "file_extension": ".py",
   "mimetype": "text/x-python",
   "name": "python",
   "nbconvert_exporter": "python",
   "pygments_lexer": "ipython3",
   "version": "3.8.5"
  }
 },
 "nbformat": 4,
 "nbformat_minor": 4
}
